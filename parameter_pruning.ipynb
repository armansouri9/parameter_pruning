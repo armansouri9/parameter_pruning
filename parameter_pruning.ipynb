{
  "nbformat": 4,
  "nbformat_minor": 0,
  "metadata": {
    "colab": {
      "provenance": []
    },
    "kernelspec": {
      "name": "python3",
      "display_name": "Python 3"
    },
    "language_info": {
      "name": "python"
    }
  },
  "cells": [
    {
      "cell_type": "markdown",
      "source": [
        "# Parameter Reduction using Parameter Pruning (کاهش پارامتر با استفاده از کم‌نمونه‌برداری پارامتر)"
      ],
      "metadata": {
        "id": "hx6THbfa6Of7"
      }
    },
    {
      "cell_type": "code",
      "execution_count": 8,
      "metadata": {
        "colab": {
          "base_uri": "https://localhost:8080/"
        },
        "id": "g3oHpFDC4Ti_",
        "outputId": "4cd2bffa-82e4-43ff-a332-cdbd3a6feb81"
      },
      "outputs": [
        {
          "output_type": "stream",
          "name": "stdout",
          "text": [
            "Epoch 1: Loss 2.3048331886529922\n",
            "Epoch 2: Loss 2.3006503134965897\n",
            "Epoch 3: Loss 2.2961722165346146\n",
            "Epoch 4: Loss 2.291381984949112\n",
            "Epoch 5: Loss 2.2872362434864044\n",
            "Epoch 6: Loss 2.283582255244255\n",
            "Epoch 7: Loss 2.279708608984947\n",
            "Epoch 8: Loss 2.275347575545311\n",
            "Epoch 9: Loss 2.2710374146699905\n",
            "Epoch 10: Loss 2.2674603015184402\n",
            "Accuracy: 0.0\n"
          ]
        }
      ],
      "source": [
        "import torch\n",
        "import torch.nn as nn\n",
        "import torch.nn.functional as F\n",
        "import torch.optim as optim\n",
        "import torch.nn.utils.prune as prune\n",
        "\n",
        "# تعریف مدل\n",
        "class Net(nn.Module):\n",
        "    def __init__(self):\n",
        "        super(Net, self).__init__()\n",
        "        self.fc1 = nn.Linear(784, 256)\n",
        "        self.fc2 = nn.Linear(256, 128)\n",
        "        self.fc3 = nn.Linear(128, 10)\n",
        "\n",
        "    def forward(self, x):\n",
        "        x = x.view(-1, 784)\n",
        "        x = F.relu(self.fc1(x))\n",
        "        x = F.relu(self.fc2(x))\n",
        "        x = self.fc3(x)\n",
        "        return x\n",
        "\n",
        "# ایجاد نمونه از مدل\n",
        "model = Net()\n",
        "\n",
        "# تعریف تابع هدف (loss function) و بهینه‌ساز\n",
        "criterion = nn.CrossEntropyLoss()\n",
        "optimizer = optim.SGD(model.parameters(), lr=0.01)\n",
        "\n",
        "# تولید داده‌های آموزش ساده\n",
        "train_data = torch.randn(1000, 784)\n",
        "train_labels = torch.randint(0, 10, (1000,))\n",
        "\n",
        "# تبدیل داده‌ها به TensorDataset\n",
        "train_dataset = torch.utils.data.TensorDataset(train_data, train_labels)\n",
        "\n",
        "# تعریف DataLoader برای داده‌های آموزش\n",
        "trainloader = torch.utils.data.DataLoader(train_dataset, batch_size=64, shuffle=True)\n",
        "\n",
        "# آموزش مدل با استفاده از داده‌های آموزش\n",
        "for epoch in range(10):\n",
        "    running_loss = 0.0\n",
        "    for i, data in enumerate(trainloader, 0):\n",
        "        inputs, labels = data\n",
        "        optimizer.zero_grad()\n",
        "        outputs = model(inputs)\n",
        "        loss = criterion(outputs, labels)\n",
        "        loss.backward()\n",
        "        optimizer.step()\n",
        "        running_loss += loss.item()\n",
        "    print(f\"Epoch {epoch+1}: Loss {running_loss/len(trainloader)}\")\n",
        "\n",
        "# کاهش پارامتر با استفاده از کم‌نمونه‌برداری پارامتر\n",
        "pruned_model = prune.l1_unstructured(model.fc1, name='weight', amount=0.5)\n",
        "\n",
        "# ارزیابی مدل\n",
        "test_data = torch.randn(100, 784)\n",
        "test_labels = torch.randint(0, 10, (100,))\n",
        "test_dataset = torch.utils.data.TensorDataset(test_data, test_labels)\n",
        "testloader = torch.utils.data.DataLoader(test_dataset, batch_size=10)\n",
        "\n",
        "correct = 0\n",
        "total = 0\n",
        "with torch.no_grad():\n",
        "    for data in testloader:\n",
        "        images, labels = data\n",
        "        outputs = pruned_model(images)\n",
        "        _, predicted = torch.max(outputs.data, 1)\n",
        "        total += labels.size(0)\n",
        "        correct += (predicted == labels).sum().item()\n",
        "accuracy = correct / total\n",
        "print(f\"Accuracy: {accuracy}\")\n"
      ]
    },
    {
      "cell_type": "markdown",
      "source": [
        "# Significant Pruning (کم‌نمونه‌برداری قابل توجه)"
      ],
      "metadata": {
        "id": "XASX8cil57qE"
      }
    },
    {
      "cell_type": "code",
      "source": [
        "import torch\n",
        "import torch.nn as nn\n",
        "import torch.nn.functional as F\n",
        "import torch.optim as optim\n",
        "import torch.nn.utils.prune as prune\n",
        "\n",
        "# تعریف مدل\n",
        "class Net(nn.Module):\n",
        "    def __init__(self):\n",
        "        super(Net, self).__init__()\n",
        "        self.fc1 = nn.Linear(784, 256)\n",
        "        self.fc2 = nn.Linear(256, 128)\n",
        "        self.fc3 = nn.Linear(128, 10)\n",
        "\n",
        "    def forward(self, x):\n",
        "        x = x.view(-1, 784)\n",
        "        x = F.relu(self.fc1(x))\n",
        "        x = F.relu(self.fc2(x))\n",
        "        x = self.fc3(x)\n",
        "        return x\n",
        "\n",
        "# ایجاد نمونه از مدل\n",
        "model = Net()\n",
        "\n",
        "# تعریف تابع هدف (loss function) و بهینه‌ساز\n",
        "criterion = nn.CrossEntropyLoss()\n",
        "optimizer = optim.SGD(model.parameters(), lr=0.01)\n",
        "\n",
        "# آموزش مدل با استفاده از داده‌های آموزش\n",
        "for epoch in range(10):\n",
        "    running_loss = 0.0\n",
        "    for i, data in enumerate(trainloader, 0):\n",
        "        inputs, labels = data\n",
        "        optimizer.zero_grad()\n",
        "        outputs = model(inputs)\n",
        "        loss = criterion(outputs, labels)\n",
        "        loss.backward()\n",
        "        optimizer.step()\n",
        "        running_loss += loss.item()\n",
        "    print(f\"Epoch {epoch+1}: Loss {running_loss/len(trainloader)}\")\n",
        "\n",
        "# کاهش پارامتر با استفاده از کم‌نمونه‌برداری قابل توجه\n",
        "significant_pruned_model = prune.ln_structured(model.fc1, name='weight', amount=0.5, n=2, dim=0)\n",
        "\n",
        "# ارزیابی مدل\n",
        "correct = 0\n",
        "total = 0\n",
        "with torch.no_grad():\n",
        "    for data in testloader:\n",
        "        images, labels = data\n",
        "        outputs = significant_pruned_model(images)\n",
        "        _, predicted = torch.max(outputs.data, 1)\n",
        "        total += labels.size(0)\n",
        "        correct += (predicted == labels).sum().item()\n",
        "accuracy = correct / total\n",
        "print(f\"Accuracy: {accuracy}\")"
      ],
      "metadata": {
        "colab": {
          "base_uri": "https://localhost:8080/"
        },
        "id": "_uTGudDj59Ea",
        "outputId": "1ff6ded1-086e-46ca-f7bc-afc3beb54ec6"
      },
      "execution_count": 10,
      "outputs": [
        {
          "output_type": "stream",
          "name": "stdout",
          "text": [
            "Epoch 1: Loss 2.3065681159496307\n",
            "Epoch 2: Loss 2.3025631457567215\n",
            "Epoch 3: Loss 2.298457056283951\n",
            "Epoch 4: Loss 2.2939128279685974\n",
            "Epoch 5: Loss 2.289175420999527\n",
            "Epoch 6: Loss 2.2852788865566254\n",
            "Epoch 7: Loss 2.2809646874666214\n",
            "Epoch 8: Loss 2.276397094130516\n",
            "Epoch 9: Loss 2.272720590233803\n",
            "Epoch 10: Loss 2.2677572816610336\n",
            "Accuracy: 0.0\n"
          ]
        }
      ]
    },
    {
      "cell_type": "markdown",
      "source": [
        "# Weight-based Pruning (کم‌نمونه‌برداری مبتنی بر وزن)"
      ],
      "metadata": {
        "id": "0bfxc1Ps5_vZ"
      }
    },
    {
      "cell_type": "code",
      "source": [
        "import torch\n",
        "import torch.nn as nn\n",
        "import torch.nn.functional as F\n",
        "import torch.optim as optim\n",
        "import torch.nn.utils.prune as prune\n",
        "\n",
        "# تعریف مدل\n",
        "class Net(nn.Module):\n",
        "    def __init__(self):\n",
        "        super(Net, self).__init__()\n",
        "        self.fc1 = nn.Linear(784, 256)\n",
        "        self.fc2 = nn.Linear(256, 128)\n",
        "        self.fc3 = nn.Linear(128, 10)\n",
        "\n",
        "    def forward(self, x):\n",
        "        x = x.view(-1, 784)\n",
        "        x = F.relu(self.fc1(x))\n",
        "        x = F.relu(self.fc2(x))\n",
        "        x = self.fc3(x)\n",
        "        return x\n",
        "\n",
        "# ایجاد نمونه از مدل\n",
        "model = Net()\n",
        "\n",
        "# تعریف تابع هدف (loss function) و بهینه‌ساز\n",
        "criterion = nn.CrossEntropyLoss()\n",
        "optimizer = optim.SGD(model.parameters(), lr=0.01)\n",
        "\n",
        "# آموزش مدل با استفاده از داده‌های آموزش\n",
        "for epoch in range(10):\n",
        "    running_loss = 0.0\n",
        "    for i, data in enumerate(trainloader, 0):\n",
        "        inputs, labels = data\n",
        "        optimizer.zero_grad()\n",
        "        outputs = model(inputs)\n",
        "        loss = criterion(outputs, labels)\n",
        "        loss.backward()\n",
        "        optimizer.step()\n",
        "        running_loss += loss.item()\n",
        "    print(f\"Epoch {epoch+1}: Loss {running_loss/len(trainloader)}\")\n",
        "\n",
        "# کاهش پارامتر با استفاده از کم‌نمونه‌برداری مبتنی بر وزن\n",
        "weight_pruned_model = prune.ln_structured(model.fc1, name='weight', amount=0.5, n=2, dim=1)\n",
        "\n",
        "# ارزیابی مدل\n",
        "correct = 0\n",
        "total = 0\n",
        "with torch.no_grad():\n",
        "    for data in testloader:\n",
        "        images, labels = data\n",
        "        outputs = weight_pruned_model(images)\n",
        "        _, predicted = torch.max(outputs.data, 1)\n",
        "        total += labels.size(0)\n",
        "        correct += (predicted == labels).sum().item()\n",
        "accuracy = correct / total\n",
        "print(f\"Accuracy: {accuracy}\")"
      ],
      "metadata": {
        "colab": {
          "base_uri": "https://localhost:8080/"
        },
        "id": "ynm9_kNk6EEq",
        "outputId": "79d3cc5d-2383-406f-f796-7b5b6083877b"
      },
      "execution_count": 11,
      "outputs": [
        {
          "output_type": "stream",
          "name": "stdout",
          "text": [
            "Epoch 1: Loss 2.3017091155052185\n",
            "Epoch 2: Loss 2.297528564929962\n",
            "Epoch 3: Loss 2.2925126254558563\n",
            "Epoch 4: Loss 2.288518249988556\n",
            "Epoch 5: Loss 2.284014046192169\n",
            "Epoch 6: Loss 2.2798368632793427\n",
            "Epoch 7: Loss 2.275186687707901\n",
            "Epoch 8: Loss 2.2710001915693283\n",
            "Epoch 9: Loss 2.2670977115631104\n",
            "Epoch 10: Loss 2.2631655037403107\n",
            "Accuracy: 0.01\n"
          ]
        }
      ]
    },
    {
      "cell_type": "markdown",
      "source": [
        "#Compare"
      ],
      "metadata": {
        "id": "A_xrmhx68Nyv"
      }
    },
    {
      "cell_type": "code",
      "source": [
        "# تعریف مدل\n",
        "class Net(nn.Module):\n",
        "    def __init__(self):\n",
        "        super(Net, self).__init__()\n",
        "        self.fc1 = nn.Linear(3, 2)\n",
        "        self.fc2 = nn.Linear(2, 2)\n",
        "\n",
        "    def forward(self, x):\n",
        "        x = F.relu(self.fc1(x))\n",
        "        x = self.fc2(x)\n",
        "        return x\n",
        "\n",
        "# ایجاد نمونه از مدل\n",
        "model = Net()\n",
        "print(list(model.named_parameters()))"
      ],
      "metadata": {
        "colab": {
          "base_uri": "https://localhost:8080/"
        },
        "id": "6qP4zA1w8JM3",
        "outputId": "9f5c8d76-6f50-4932-f417-7a64955eea8e"
      },
      "execution_count": 18,
      "outputs": [
        {
          "output_type": "stream",
          "name": "stdout",
          "text": [
            "[('fc1.weight', Parameter containing:\n",
            "tensor([[ 0.1730,  0.5156,  0.0856],\n",
            "        [-0.0961, -0.5251, -0.0829]], requires_grad=True)), ('fc1.bias', Parameter containing:\n",
            "tensor([0.2808, 0.3543], requires_grad=True)), ('fc2.weight', Parameter containing:\n",
            "tensor([[-0.0294,  0.3842],\n",
            "        [ 0.0530,  0.6242]], requires_grad=True)), ('fc2.bias', Parameter containing:\n",
            "tensor([-0.0492,  0.5181], requires_grad=True))]\n"
          ]
        }
      ]
    },
    {
      "cell_type": "code",
      "source": [
        "# ایجاد نمونه از مدل\n",
        "model = Net()\n",
        "model=prune.ln_structured(model.fc1, name='weight', amount=0.5, n=2, dim=1)\n",
        "print(list(model.named_parameters()))"
      ],
      "metadata": {
        "colab": {
          "base_uri": "https://localhost:8080/"
        },
        "id": "5fB7Xsjv8vT5",
        "outputId": "6898f6de-bde5-4dc8-a6ab-5c45469d3f62"
      },
      "execution_count": 21,
      "outputs": [
        {
          "output_type": "stream",
          "name": "stdout",
          "text": [
            "[('bias', Parameter containing:\n",
            "tensor([0.2213, 0.2622], requires_grad=True)), ('weight_orig', Parameter containing:\n",
            "tensor([[ 0.3317,  0.4135, -0.2701],\n",
            "        [-0.0647,  0.2824,  0.4591]], requires_grad=True))]\n"
          ]
        }
      ]
    }
  ]
}